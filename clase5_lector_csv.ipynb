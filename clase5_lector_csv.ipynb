{
 "cells": [
  {
   "cell_type": "code",
   "execution_count": null,
   "id": "e99e2179-987b-4b20-b79e-a421893911e4",
   "metadata": {},
   "outputs": [],
   "source": [
    "#para el manejo de archivos en el sistema miporto le módulo os\n",
    "#para el manejo de csv importo pandas\n",
    "#y para la gestión de los archivos con un cierto patrón en el nombre, importo glob\n",
    "\n",
    "import os\n",
    "import pandas as pd\n",
    "import glob"
   ]
  },
  {
   "cell_type": "code",
   "execution_count": null,
   "id": "33568236-0e5a-4da6-b5cb-869a6fb79f2e",
   "metadata": {},
   "outputs": [],
   "source": [
    "#asigno el directorio d einterés a una variable y cambio el directorio de trabajo a /data\n",
    "dir = \"/data\"\n",
    "\n",
    "os.chdir(\"/data\")"
   ]
  },
  {
   "cell_type": "code",
   "execution_count": null,
   "id": "5367af18-a2fc-4f63-b01c-b6c0dc637493",
   "metadata": {},
   "outputs": [],
   "source": [
    "#hago un listado de los ficheros de interés e inicializo las variables\n",
    "ficheros = os.listdir(dir)\n",
    "\n",
    "lista_csv = []\n",
    "\n",
    "output = {}"
   ]
  },
  {
   "cell_type": "code",
   "execution_count": null,
   "id": "3c3758e7-b52d-4b92-aca4-067d79c0da73",
   "metadata": {},
   "outputs": [],
   "source": [
    "#aquí se obtiene la lista de nombres de ficheros para luego añadirla como columna al .csv resultante. El fallo es que no sé cómo añadirla\n",
    "for fichero in ficheros:\n",
    "    if os.path.isfile(os.path.join(dir, fichero)) and fichero.endswith(\".csv\"):\n",
    "        lista_csv.append(fichero)\n",
    "print(lista_csv)"
   ]
  },
  {
   "cell_type": "code",
   "execution_count": null,
   "id": "196a0f52-bb1e-4a85-80c8-1a1756b71ec3",
   "metadata": {},
   "outputs": [],
   "source": [
    "#uso regex para gestionar los archivos con glob y combinar los csv con pandas\n",
    "extension = 'csv'\n",
    "todos_los_archivos = [i for i in glob.glob('*.{}'.format(extension))]\n",
    "\n",
    "combinado_csv = pd.concat([pd.read_csv(f) for f in todos_los_archivos])"
   ]
  },
  {
   "cell_type": "code",
   "execution_count": null,
   "id": "08341e60-847d-418f-9654-fcadd9acfba2",
   "metadata": {},
   "outputs": [],
   "source": [
    "#exporto el archivo resultante\n",
    "combinado_csv.to_csv(\"output_sin_nombres.csv\", index=False, sep=\"|\")"
   ]
  }
 ],
 "metadata": {
  "kernelspec": {
   "display_name": "Python 3 (ipykernel)",
   "language": "python",
   "name": "python3"
  },
  "language_info": {
   "codemirror_mode": {
    "name": "ipython",
    "version": 3
   },
   "file_extension": ".py",
   "mimetype": "text/x-python",
   "name": "python",
   "nbconvert_exporter": "python",
   "pygments_lexer": "ipython3",
   "version": "3.10.12"
  }
 },
 "nbformat": 4,
 "nbformat_minor": 5
}
